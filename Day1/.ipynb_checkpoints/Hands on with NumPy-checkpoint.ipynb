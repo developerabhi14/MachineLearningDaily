{
 "cells": [
  {
   "cell_type": "code",
   "execution_count": 1,
   "id": "3c369352-e12e-4bd8-ab81-b3e6d21674c0",
   "metadata": {},
   "outputs": [],
   "source": [
    "import numpy as np"
   ]
  },
  {
   "cell_type": "code",
   "execution_count": 2,
   "id": "9e451102-a791-47d8-b5c0-ad8f065eed22",
   "metadata": {},
   "outputs": [
    {
     "name": "stdout",
     "output_type": "stream",
     "text": [
      "Row vector: [1 2 3]\n",
      "Column vector: [[4]\n",
      " [5]\n",
      " [6]]\n",
      "Row vector shape: (3,)\n",
      "Column vector shape: (3, 1)\n"
     ]
    }
   ],
   "source": [
    "# Create a row vector\n",
    "\n",
    "row_vector=np.array([1,2,3])\n",
    "column_vector=np.array([[4],[5],[6]])\n",
    "\n",
    "print(\"Row vector:\",row_vector)\n",
    "print(\"Column vector:\", column_vector)\n",
    "\n",
    "print(\"Row vector shape:\", row_vector.shape)\n",
    "print(\"Column vector shape:\", column_vector.shape)\n"
   ]
  },
  {
   "cell_type": "code",
   "execution_count": 5,
   "id": "768a293d-82ca-4477-b7ab-ddeb5a4b0ccc",
   "metadata": {},
   "outputs": [],
   "source": [
    "# Define two row vectors\n",
    "a=np.array([1,2,3])\n",
    "b=np.array([4,5,6])"
   ]
  },
  {
   "cell_type": "code",
   "execution_count": 6,
   "id": "ceed1c69-a9a8-4c1a-b782-35c4f01270ec",
   "metadata": {},
   "outputs": [
    {
     "name": "stdout",
     "output_type": "stream",
     "text": [
      "Addition: [5 7 9]\n"
     ]
    }
   ],
   "source": [
    "# element wise addition\n",
    "print(\"Addition:\",a+b)"
   ]
  },
  {
   "cell_type": "code",
   "execution_count": 7,
   "id": "1c3c7819-2d9b-456a-829e-d0b3e6f69517",
   "metadata": {},
   "outputs": [
    {
     "name": "stdout",
     "output_type": "stream",
     "text": [
      "Addition: [-3 -3 -3]\n"
     ]
    }
   ],
   "source": [
    "# element wise subtraction\n",
    "print(\"Addition:\",a-b)"
   ]
  },
  {
   "cell_type": "code",
   "execution_count": 8,
   "id": "0da5ed94-acab-4464-9588-fc5a4029b7be",
   "metadata": {},
   "outputs": [
    {
     "name": "stdout",
     "output_type": "stream",
     "text": [
      "Scalar multiplication: [2 4 6]\n"
     ]
    }
   ],
   "source": [
    "# scalar multiplication to a vector\n",
    "scalar=2\n",
    "print(\"Scalar multiplication:\", scalar*a)"
   ]
  },
  {
   "cell_type": "code",
   "execution_count": 9,
   "id": "c48f79d7-5866-4fdf-94eb-6d8e7addbd62",
   "metadata": {},
   "outputs": [
    {
     "name": "stdout",
     "output_type": "stream",
     "text": [
      "dot product 32\n"
     ]
    }
   ],
   "source": [
    "# dot product\n",
    "print(\"dot product\", np.dot(a,b))"
   ]
  },
  {
   "cell_type": "code",
   "execution_count": 10,
   "id": "aa6701e5-aa3e-4e07-9b43-034b6236a464",
   "metadata": {},
   "outputs": [
    {
     "name": "stdout",
     "output_type": "stream",
     "text": [
      "(2, 3)\n"
     ]
    }
   ],
   "source": [
    "# Creating matrices\n",
    "matrix_a=np.array([[1,2,3],[4,5,6]])\n",
    "print(matrix_a.shape)"
   ]
  },
  {
   "cell_type": "code",
   "execution_count": 13,
   "id": "28e95b7c-27cb-46f3-a92d-834ab5161108",
   "metadata": {},
   "outputs": [
    {
     "name": "stdout",
     "output_type": "stream",
     "text": [
      "Identitiy matrix:\n",
      " [[1. 0. 0.]\n",
      " [0. 1. 0.]\n",
      " [0. 0. 1.]]\n"
     ]
    }
   ],
   "source": [
    "# Identity matrix\n",
    "print(\"Identitiy matrix:\\n\", np.identity(3))"
   ]
  },
  {
   "cell_type": "code",
   "execution_count": 15,
   "id": "1abe8684-53d5-4d52-bb40-806ec2a8d79f",
   "metadata": {},
   "outputs": [
    {
     "name": "stdout",
     "output_type": "stream",
     "text": [
      "Transpose:\n",
      " [[1 4]\n",
      " [2 5]\n",
      " [3 6]]\n",
      "Shape of matrix A: (2, 3)\n",
      "Shape of Transpose of matrix A: (3, 2)\n"
     ]
    }
   ],
   "source": [
    "# transpose \n",
    "print(\"Transpose:\\n\", matrix_a.T)\n",
    "print(\"Shape of matrix A:\", matrix_a.shape)\n",
    "print(\"Shape of Transpose of matrix A:\", matrix_a.T.shape)"
   ]
  },
  {
   "cell_type": "code",
   "execution_count": 17,
   "id": "f5e0c15f-3794-43c3-9f88-02377f308b2b",
   "metadata": {},
   "outputs": [
    {
     "name": "stdout",
     "output_type": "stream",
     "text": [
      "Scalar mulitplication:\n",
      " [[ 2  4  6]\n",
      " [ 8 10 12]]\n"
     ]
    }
   ],
   "source": [
    "matrix_b=np.array([[1,2,3],[4,5,6]])\n",
    "print(\"Scalar mulitplication:\\n\", scalar*matrix_b)"
   ]
  },
  {
   "cell_type": "code",
   "execution_count": 21,
   "id": "ae5e285a-5628-44a7-9412-e9adbdc01447",
   "metadata": {},
   "outputs": [
    {
     "name": "stdout",
     "output_type": "stream",
     "text": [
      "Dot product:\n",
      " [[14 32]\n",
      " [32 77]]\n"
     ]
    }
   ],
   "source": [
    "# Dot product(Matrix Multiplication)\n",
    "print(\"Dot product:\\n\", np.dot(matrix_a,matrix_b.T))"
   ]
  },
  {
   "cell_type": "code",
   "execution_count": 23,
   "id": "8542a2e2-55a4-4ced-932e-6a582a7e48a8",
   "metadata": {},
   "outputs": [
    {
     "name": "stdout",
     "output_type": "stream",
     "text": [
      "Solution to the system of linear equation: [2. 1.]\n"
     ]
    }
   ],
   "source": [
    "# Solving a system of linear equations\n",
    "\n",
    "# 2x+y=5\n",
    "# x-3y=-1\n",
    "\n",
    "A=np.array([[2,1],[1,-3]])\n",
    "B=np.array([5,-1])\n",
    "solution=np.linalg.solve(A,B)\n",
    "print(\"Solution to the system of linear equation:\", solution)"
   ]
  },
  {
   "cell_type": "code",
   "execution_count": 25,
   "id": "4acb48b9-dee0-4056-b22b-dd02a2869c88",
   "metadata": {},
   "outputs": [
    {
     "name": "stdout",
     "output_type": "stream",
     "text": [
      "Determinant of C: 23.999999999999993\n"
     ]
    }
   ],
   "source": [
    "# Determinant and rank\n",
    "C=np.array([[1,2,3],[0,4,5],[0,0,6]])\n",
    "det_c=np.linalg.det(C)\n",
    "print(\"Determinant of C:\", det_c)"
   ]
  },
  {
   "cell_type": "code",
   "execution_count": 26,
   "id": "97d7f5c4-e0b4-4687-893a-0df82931e9e0",
   "metadata": {},
   "outputs": [
    {
     "name": "stdout",
     "output_type": "stream",
     "text": [
      "Determinant of C: -2.0000000000000004\n"
     ]
    }
   ],
   "source": [
    "# Determinant of matrix\n",
    "C=np.array([[1,2],[3,4]])\n",
    "det_c=np.linalg.det(C)\n",
    "print(\"Determinant of C:\", det_c)"
   ]
  },
  {
   "cell_type": "code",
   "execution_count": 27,
   "id": "75f33988-8b21-4663-a7bb-137978533c86",
   "metadata": {},
   "outputs": [
    {
     "name": "stdout",
     "output_type": "stream",
     "text": [
      "Rank of matrix: 3\n"
     ]
    }
   ],
   "source": [
    "# Rank of matrix\n",
    "C=np.array([[1,2,3],[0,4,5],[0,0,6]])\n",
    "rank_c=np.linalg.matrix_rank(C)\n",
    "print(\"Rank of matrix:\", rank_c)"
   ]
  },
  {
   "cell_type": "code",
   "execution_count": 28,
   "id": "a2a3dfed-3120-40d7-b47b-eabac26ded1e",
   "metadata": {},
   "outputs": [
    {
     "name": "stdout",
     "output_type": "stream",
     "text": [
      "Rank of matrix: 2\n"
     ]
    }
   ],
   "source": [
    "# Rank of matrix\n",
    "C=np.array([[1,2],[3,4]])\n",
    "rank_c=np.linalg.matrix_rank(C)\n",
    "print(\"Rank of matrix:\", rank_c)"
   ]
  },
  {
   "cell_type": "code",
   "execution_count": null,
   "id": "bc7b84b7-7115-4295-b245-4e5ec85ab4eb",
   "metadata": {},
   "outputs": [],
   "source": []
  }
 ],
 "metadata": {
  "kernelspec": {
   "display_name": "Python 3 (ipykernel)",
   "language": "python",
   "name": "python3"
  },
  "language_info": {
   "codemirror_mode": {
    "name": "ipython",
    "version": 3
   },
   "file_extension": ".py",
   "mimetype": "text/x-python",
   "name": "python",
   "nbconvert_exporter": "python",
   "pygments_lexer": "ipython3",
   "version": "3.12.3"
  }
 },
 "nbformat": 4,
 "nbformat_minor": 5
}
